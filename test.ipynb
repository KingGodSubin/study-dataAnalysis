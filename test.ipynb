{
 "cells": [
  {
   "cell_type": "markdown",
   "id": "56cb98c7-a20f-4015-988f-21a3fc741be1",
   "metadata": {},
   "source": [
    "# 안녕"
   ]
  },
  {
   "cell_type": "code",
   "execution_count": 6,
   "id": "c058c903-385b-4561-ae43-2a7bb5cb4b13",
   "metadata": {},
   "outputs": [
    {
     "name": "stdout",
     "output_type": "stream",
     "text": [
      "안녕\n"
     ]
    }
   ],
   "source": [
    "print(\"안녕\")"
   ]
  }
 ],
 "metadata": {
  "kernelspec": {
   "display_name": "Python 3 (ipykernel)",
   "language": "python",
   "name": "python3"
  },
  "language_info": {
   "codemirror_mode": {
    "name": "ipython",
    "version": 3
   },
   "file_extension": ".py",
   "mimetype": "text/x-python",
   "name": "python",
   "nbconvert_exporter": "python",
   "pygments_lexer": "ipython3",
   "version": "3.11.7"
  }
 },
 "nbformat": 4,
 "nbformat_minor": 5
}
